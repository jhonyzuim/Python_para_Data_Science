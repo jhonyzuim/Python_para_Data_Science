{
 "cells": [
  {
   "cell_type": "code",
   "execution_count": 6,
   "metadata": {},
   "outputs": [
    {
     "name": "stdout",
     "output_type": "stream",
     "text": [
      "9\n"
     ]
    }
   ],
   "source": [
    "class Homem:\n",
    "    \n",
    "    \n",
    "    distanciatotal = 0\n",
    "    \n",
    "    distanciadia = 0\n",
    "    \n",
    "    distancianoite = 0\n",
    "    \n",
    "    contadorDias = 0\n",
    "\n",
    "    \n",
    "    def __init__ (self, distanciadia, distancianoite):\n",
    "        self.distanciadia = distanciadia\n",
    "        self.distancianoite = distancianoite\n",
    "    \n",
    "    \n",
    "    def subir(self):\n",
    "        self.distanciatotal += self.distanciadia\n",
    "        self.contadorDias += 1\n",
    "        if self.distanciatotal < 10:\n",
    "            self.distanciatotal -= self.distancianoite\n",
    "        return self.contadorDias            \n",
    "   \n",
    "\n",
    "    def contarDias(self):\n",
    "        while self.distanciatotal < 10:\n",
    "            self.subir()\n",
    "        return self.contadorDias\n",
    "    \n",
    "    \n",
    "h = Homem (2, 1)\n",
    "print (h.contarDias())"
   ]
  },
  {
   "cell_type": "code",
   "execution_count": null,
   "metadata": {},
   "outputs": [],
   "source": []
  }
 ],
 "metadata": {
  "kernelspec": {
   "display_name": "Python 3",
   "language": "python",
   "name": "python3"
  },
  "language_info": {
   "codemirror_mode": {
    "name": "ipython",
    "version": 3
   },
   "file_extension": ".py",
   "mimetype": "text/x-python",
   "name": "python",
   "nbconvert_exporter": "python",
   "pygments_lexer": "ipython3",
   "version": "3.8.3"
  }
 },
 "nbformat": 4,
 "nbformat_minor": 4
}
