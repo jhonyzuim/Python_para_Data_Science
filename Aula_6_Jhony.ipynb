{
  "nbformat": 4,
  "nbformat_minor": 0,
  "metadata": {
    "colab": {
      "name": "Aula_6_Jhony.ipynb",
      "provenance": [],
      "toc_visible": true,
      "authorship_tag": "ABX9TyNgdnoIpLRefqGwpl1Ce2pL",
      "include_colab_link": true
    },
    "kernelspec": {
      "name": "python3",
      "display_name": "Python 3"
    }
  },
  "cells": [
    {
      "cell_type": "markdown",
      "metadata": {
        "id": "view-in-github",
        "colab_type": "text"
      },
      "source": [
        "<a href=\"https://colab.research.google.com/github/jhonyzuim/Python_para_Data_Science/blob/master/Aula_6_Jhony.ipynb\" target=\"_parent\"><img src=\"https://colab.research.google.com/assets/colab-badge.svg\" alt=\"Open In Colab\"/></a>"
      ]
    },
    {
      "cell_type": "markdown",
      "metadata": {
        "id": "Y66drPFvpliA"
      },
      "source": [
        "**1 Configurando o Spark no Python**\n",
        "\n",
        "Etapa responsável por realizar o download e configuração do Spark"
      ]
    },
    {
      "cell_type": "code",
      "metadata": {
        "id": "5vpP437PrDmV"
      },
      "source": [
        "#Instacao e configuracao do Java 8\n",
        "!apt-get install openjdk-8-jdk-headless -qq > /dev/null\n",
        "#Download do Apache Spark\n",
        "!wget -q http://apache.osuosl.org/spark/spark-3.0.1/spark-3.0.1-bin-hadoop3.2.tgz\n",
        "#Descompatacao do Apache Spark\n",
        "!tar xf spark-3.0.1-bin-hadoop3.2.tgz\n",
        "#Instalacao do Findspark\n",
        "!pip install -q findspark"
      ],
      "execution_count": 1,
      "outputs": []
    },
    {
      "cell_type": "markdown",
      "metadata": {
        "id": "h6FvfIcRsA6o"
      },
      "source": [
        "**2 Configurando ambiente**\n",
        "\n",
        "Eatapa responsável por configurar o ambiente do Spark"
      ]
    },
    {
      "cell_type": "code",
      "metadata": {
        "id": "8KghUmGOsX-v"
      },
      "source": [
        "import os\n",
        "os.environ[\"JAVA_HOME\"] = \"/usr/lib/jvm/java-8-openjdk-amd64\"\n",
        "os.environ[\"SPARK_HOME\"] = \"/content/spark-3.0.1-bin-hadoop3.2\""
      ],
      "execution_count": 2,
      "outputs": []
    },
    {
      "cell_type": "markdown",
      "metadata": {
        "id": "-TJUe9VFsgte"
      },
      "source": [
        "**3 Configurando a sessão do Spark**\n",
        "\n",
        "Etapa responsável por inicializar a sessão do Spark"
      ]
    },
    {
      "cell_type": "code",
      "metadata": {
        "id": "7rtAT9C_suZO"
      },
      "source": [
        "import findspark\n",
        "findspark.init()\n",
        "from pyspark.sql import SparkSession\n",
        "spark = SparkSession.builder.master(\"local[*]\").getOrCreate()"
      ],
      "execution_count": 3,
      "outputs": []
    },
    {
      "cell_type": "markdown",
      "metadata": {
        "id": "mlvBBSOds-j9"
      },
      "source": [
        "**4 Validando a Configuração e versão do Spark**\n",
        "\n",
        "Etapa de verificação"
      ]
    },
    {
      "cell_type": "code",
      "metadata": {
        "id": "OKpB42xAtNzk",
        "outputId": "2261dfbd-d84a-493b-c948-3f74665c43a5",
        "colab": {
          "base_uri": "https://localhost:8080/",
          "height": 34
        }
      },
      "source": [
        "import pyspark\n",
        "print(pyspark.__version__)"
      ],
      "execution_count": 4,
      "outputs": [
        {
          "output_type": "stream",
          "text": [
            "3.0.1\n"
          ],
          "name": "stdout"
        }
      ]
    },
    {
      "cell_type": "markdown",
      "metadata": {
        "id": "KHnnmR5uuHSP"
      },
      "source": [
        "**5 Download dos Dados Portal da Transparencia**\n",
        "\n",
        "Etapa responsável por realizar o Download das informações de Gastos por meio de cartão de pagamento providas através da API: http://www.portaltransparencia.gov.br/api-de-dados/cartoes?pagina=1"
      ]
    },
    {
      "cell_type": "code",
      "metadata": {
        "id": "BuuL7pjAvLCs",
        "outputId": "5d91fe78-865f-43eb-9ac8-71c68ca50127",
        "colab": {
          "base_uri": "https://localhost:8080/",
          "height": 68
        }
      },
      "source": [
        "!curl -X GET --header 'Accept: application/json' --header 'chave-api-dados: dc48f972261fe427cdfa8b8da7d5c768' 'http://www.portaltransparencia.gov.br/api-de-dados/cnep?pagina=1' > consulta_portal_transparencia.json"
      ],
      "execution_count": 8,
      "outputs": [
        {
          "output_type": "stream",
          "text": [
            "  % Total    % Received % Xferd  Average Speed   Time    Time     Time  Current\n",
            "                                 Dload  Upload   Total   Spent    Left  Speed\n",
            "100 43346    0 43346    0     0  42832      0 --:--:--  0:00:01 --:--:-- 42832\n"
          ],
          "name": "stdout"
        }
      ]
    },
    {
      "cell_type": "markdown",
      "metadata": {
        "id": "cwYSp1ORxbTz"
      },
      "source": [
        "**6 Carregando os dados no Spark**\n",
        "\n",
        "Etapa paga a carga de dados no Spark."
      ]
    },
    {
      "cell_type": "code",
      "metadata": {
        "id": "Qxlds53Nxl2H"
      },
      "source": [
        "#Instancia o contexto do Spark\n",
        "sc = spark.sparkContext\n",
        "#Realiza a leitura da nossa consulta realizada na API do Governo Federal sobre as Viagens\n",
        "path = \"/content/consulta_portal_transparencia.json\"\n",
        "#Declara dataframe df com o conteudo da api que estava no JSON\n",
        "df = spark.read.json(path)"
      ],
      "execution_count": 9,
      "outputs": []
    },
    {
      "cell_type": "markdown",
      "metadata": {
        "id": "vOQYN5E-xosp"
      },
      "source": [
        "**7 Explorando os dados que foram obtidos**\n",
        "\n",
        "Etapa de exploração dos dados."
      ]
    },
    {
      "cell_type": "code",
      "metadata": {
        "id": "FtyYy2Rixt-U",
        "outputId": "a1b37408-dbd5-4e47-f840-36633f43a510",
        "colab": {
          "base_uri": "https://localhost:8080/",
          "height": 1000
        }
      },
      "source": [
        "#Imprime a estrutura de dados do nosso dataframe\n",
        "df.printSchema()\n",
        "#Imprime uma amosta de dados ( para especificar as linhas basta colocar a quantidade entre ())\n",
        "df.show()"
      ],
      "execution_count": 10,
      "outputs": [
        {
          "output_type": "stream",
          "text": [
            "root\n",
            " |-- abrangenciaDefinidaDecisaoJudicial: string (nullable = true)\n",
            " |-- dataFimSancao: string (nullable = true)\n",
            " |-- dataInicioSancao: string (nullable = true)\n",
            " |-- dataOrigemInformacao: string (nullable = true)\n",
            " |-- dataPublicacaoSancao: string (nullable = true)\n",
            " |-- dataReferencia: string (nullable = true)\n",
            " |-- dataTransitadoJulgado: string (nullable = true)\n",
            " |-- detalhamentoPublicacao: string (nullable = true)\n",
            " |-- fonteSancao: struct (nullable = true)\n",
            " |    |-- enderecoContato: string (nullable = true)\n",
            " |    |-- nomeExibicao: string (nullable = true)\n",
            " |    |-- telefoneContato: string (nullable = true)\n",
            " |-- id: long (nullable = true)\n",
            " |-- informacoesAdicionaisDoOrgaoSancionador: string (nullable = true)\n",
            " |-- legislacao: struct (nullable = true)\n",
            " |    |-- descricaoFundamentacaoLegal: string (nullable = true)\n",
            " |    |-- fundamentacaoLegal: string (nullable = true)\n",
            " |-- linkPublicacao: string (nullable = true)\n",
            " |-- numeroProcesso: string (nullable = true)\n",
            " |-- orgaoSancionador: struct (nullable = true)\n",
            " |    |-- nome: string (nullable = true)\n",
            " |    |-- poder: string (nullable = true)\n",
            " |    |-- siglaUf: string (nullable = true)\n",
            " |-- pessoa: struct (nullable = true)\n",
            " |    |-- cnae: struct (nullable = true)\n",
            " |    |    |-- classe: string (nullable = true)\n",
            " |    |    |-- codigoClasse: string (nullable = true)\n",
            " |    |    |-- codigoDivisao: string (nullable = true)\n",
            " |    |    |-- codigoGrupo: string (nullable = true)\n",
            " |    |    |-- codigoSecao: string (nullable = true)\n",
            " |    |    |-- codigoSubclasse: string (nullable = true)\n",
            " |    |    |-- divisao: string (nullable = true)\n",
            " |    |    |-- grupo: string (nullable = true)\n",
            " |    |    |-- secao: string (nullable = true)\n",
            " |    |    |-- subclasse: string (nullable = true)\n",
            " |    |-- codigoFormatado: string (nullable = true)\n",
            " |    |-- complementoEndereco: string (nullable = true)\n",
            " |    |-- dataAbertura: string (nullable = true)\n",
            " |    |-- descricaoLogradouro: string (nullable = true)\n",
            " |    |-- enderecoEletronico: string (nullable = true)\n",
            " |    |-- localidadePessoa: string (nullable = true)\n",
            " |    |-- municipio: struct (nullable = true)\n",
            " |    |    |-- codigoIBGE: string (nullable = true)\n",
            " |    |    |-- nomeIBGE: string (nullable = true)\n",
            " |    |    |-- pais: string (nullable = true)\n",
            " |    |    |-- uf: struct (nullable = true)\n",
            " |    |    |    |-- nome: string (nullable = true)\n",
            " |    |    |    |-- sigla: string (nullable = true)\n",
            " |    |-- naturezaJuridica: struct (nullable = true)\n",
            " |    |    |-- codigo: string (nullable = true)\n",
            " |    |    |-- codigoTipo: string (nullable = true)\n",
            " |    |    |-- descricao: string (nullable = true)\n",
            " |    |    |-- descricaoTipo: string (nullable = true)\n",
            " |    |-- nome: string (nullable = true)\n",
            " |    |-- nomeBairro: string (nullable = true)\n",
            " |    |-- nomeFantasiaReceita: string (nullable = true)\n",
            " |    |-- numeroCEP: string (nullable = true)\n",
            " |    |-- numeroEndereco: string (nullable = true)\n",
            " |    |-- numeroInscricaoSocial: string (nullable = true)\n",
            " |    |-- numeroTelefone: string (nullable = true)\n",
            " |    |-- razaoSocialReceita: string (nullable = true)\n",
            " |    |-- tipoCodigo: string (nullable = true)\n",
            " |    |-- tipoPessoa: string (nullable = true)\n",
            " |-- sancionado: struct (nullable = true)\n",
            " |    |-- codigoFormatado: string (nullable = true)\n",
            " |    |-- nome: string (nullable = true)\n",
            " |-- textoPublicacao: string (nullable = true)\n",
            " |-- tipoSancao: struct (nullable = true)\n",
            " |    |-- descricaoPortal: string (nullable = true)\n",
            " |    |-- descricaoResumida: string (nullable = true)\n",
            " |-- valorMulta: string (nullable = true)\n",
            "\n",
            "+----------------------------------+--------------+----------------+--------------------+--------------------+--------------+---------------------+----------------------+--------------------+---------+---------------------------------------+--------------------+--------------------+--------------------+--------------------+--------------------+--------------------+--------------------+--------------------+------------+\n",
            "|abrangenciaDefinidaDecisaoJudicial| dataFimSancao|dataInicioSancao|dataOrigemInformacao|dataPublicacaoSancao|dataReferencia|dataTransitadoJulgado|detalhamentoPublicacao|         fonteSancao|       id|informacoesAdicionaisDoOrgaoSancionador|          legislacao|      linkPublicacao|      numeroProcesso|    orgaoSancionador|              pessoa|          sancionado|     textoPublicacao|          tipoSancao|  valorMulta|\n",
            "+----------------------------------+--------------+----------------+--------------------+--------------------+--------------+---------------------+----------------------+--------------------+---------+---------------------------------------+--------------------+--------------------+--------------------+--------------------+--------------------+--------------------+--------------------+--------------------+------------+\n",
            "|              Em todos os Poder...|Sem informação|      07/05/2020|          21/07/2020|          07/05/2020|    22/10/2020|       Sem informação|                      |[Praça dos Girass...|144600045|                                       |[Multa, no valor ...|                    |   2019/30550/006725|[SECRETARIA DA SA...|[[Comércio vareji...|[08.173.123/0001-...|Diário Oficial do...|[Multa - Lei 12.8...|   14.346,00|\n",
            "|              Em todos os Poder...|Sem informação|      07/05/2020|          21/07/2020|          07/05/2020|    22/10/2020|       Sem informação|                      |[Praça dos Girass...|144600046|                                       |[Multa, no valor ...|                    |   2019/30550/006007|[SECRETARIA DA SA...|[[Comércio vareji...|[08.173.123/0001-...|Diário Oficial do...|[Multa - Lei 12.8...|  264.852,00|\n",
            "|                    Sem Informação|Sem informação|      05/10/2020|          06/10/2020|          05/10/2020|    22/10/2020|           05/10/2020|  DIARIO OFICIAL DA...|[Não Informado, P...|144800555|                                       |[A publicação ext...|http://pesquisa.i...|PAR-PB.003.03548/...|[Petróleo Brasile...|[[Carga e descarg...|[02.355.017/0001-...|Diário Oficial da...|[Publicação Extra...|        0,00|\n",
            "|                    Sem Informação|Sem informação|      15/05/2020|          30/01/2020|          15/05/2020|    22/10/2020|       Sem informação|   DOU nº 92 - Decisão|[Não Informado, P...|144800556|                                       |[Multa, no valor ...|http://pesquisa.i...|PAR-PB.004.00584/...|[Petróleo Brasile...|[[Comércio vareji...|[00.100.408/0001-...|Diário Oficial da...|[Multa - Lei 12.8...|   70.295,79|\n",
            "|                    Sem Informação|Sem informação|      20/10/2020|          08/09/2020|          20/10/2020|    22/10/2020|       Sem informação|  DOU nº 201 - deci...|[Não Informado, P...|144800557|                                       |[Multa, no valor ...|http://pesquisa.i...|PAR-PB.011.04068/...|[Petróleo Brasile...|[[Sem informação,...|[04.881.254/0001-...|Diário Oficial da...|[Multa - Lei 12.8...|  221.920,45|\n",
            "|                    Sem Informação|Sem informação|      11/03/2020|          19/02/2020|          11/03/2020|    22/10/2020|       Sem informação|   DOU nº 55 - Decisão|[Não Informado, P...|144800558|                                       |[Multa, no valor ...|http://pesquisa.i...|PAR-PB.007.08911/...|[Petróleo Brasile...|[[Fabricação de p...|[07.757.951/0001-...|Diário Oficial da...|[Multa - Lei 12.8...|   51.410,99|\n",
            "|                    Sem Informação|Sem informação|      20/08/2020|          18/09/2020|          20/08/2020|    22/10/2020|       Sem informação|  DOU - Aviso de pe...|[Não Informado, P...|144800559|                                       |[Multa, no valor ...|http://pesquisa.i...|        009040892019|[Petróleo Brasile...|[[Comércio vareji...|[12.800.672/0001-...|Diário Oficial da...|[Multa - Lei 12.8...|  168.219,45|\n",
            "|                    Sem Informação|Sem informação|      20/08/2020|          18/09/2020|          20/08/2020|    22/10/2020|       Sem informação|  DOU - Aviso de pe...|[Não Informado, P...|144800560|                                       |[A publicação ext...|http://pesquisa.i...|        009040892019|[Petróleo Brasile...|[[Comércio vareji...|[12.800.672/0001-...|Diário Oficial da...|[Publicação Extra...|        0,00|\n",
            "|                    Sem Informação|Sem informação|      14/08/2019|          19/08/2019|          14/08/2019|    22/10/2020|       Sem informação|                   DOU|[Não Informado, P...|144800561|                                       |[A publicação ext...|http://pesquisa.i...|PAR-PB. 005.07759...|[Petróleo Brasile...|[[Atividades técn...|[86.778.966/0001-...|Diário Oficial da...|[Publicação Extra...|        0,00|\n",
            "|                    Sem Informação|Sem informação|      14/08/2019|          19/08/2019|          14/08/2019|    22/10/2020|       Sem informação|                   DOU|[Não Informado, P...|144800562|                                       |[Multa, no valor ...|http://pesquisa.i...|PAR-PB. 005.07759...|[Petróleo Brasile...|[[Atividades técn...|[86.778.966/0001-...|Diário Oficial da...|[Multa - Lei 12.8...|   12.281,37|\n",
            "|                    Sem Informação|Sem informação|      29/08/2019|          06/09/2019|          29/08/2019|    22/10/2020|       Sem informação|                   DOU|[Não Informado, P...|144800563|                                       |[Multa, no valor ...|http://pesquisa.i...|PAR-PB. 0010.1244...|[Petróleo Brasile...|[[Serviços de eng...|[07.767.450/0001-...|Diário Oficial da...|[Multa - Lei 12.8...|1.463.416,69|\n",
            "|                    Sem Informação|Sem informação|      03/01/2018|          12/03/2019|          03/01/2019|    22/10/2020|       Sem informação|  DOU nº 2, seção 1...|[Não Informado, P...|144800564|                                       |[Multa, no valor ...|http://pesquisa.i...|PAR-PB.0003.51269...|[Petróleo Brasile...|[[Serviços de eng...|[08.219.178/0001-...|Diário Oficial da...|[Multa - Lei 12.8...|  858.824,94|\n",
            "|                    Sem Informação|Sem informação|      22/04/2019|          07/06/2019|          09/04/2019|    22/10/2020|           02/05/2019|  DOU nº 68, Seção ...|[Não Informado, P...|144800565|                                       |[Multa, no valor ...|http://pesquisa.i...|PAR-PB.0006.50001...|[Petróleo Brasile...|[[Sem informação,...|[03.240.946/0001-...|Diário Oficial da...|[Multa - Lei 12.8...|3.706.339,14|\n",
            "|                    Sem Informação|Sem informação|      20/10/2020|          08/09/2020|          20/10/2020|    22/10/2020|       Sem informação|  DOU nº 201 - deci...|[Não Informado, P...|144800566|                                       |[A publicação ext...|http://pesquisa.i...|PAR-PB.011.04068/...|[Petróleo Brasile...|[[Sem informação,...|[04.881.254/0001-...|Diário Oficial da...|[Publicação Extra...|        0,00|\n",
            "|                    Sem Informação|Sem informação|      11/03/2020|          19/02/2020|          11/03/2020|    22/10/2020|       Sem informação|   DOU nº 55 - Decisão|[Não Informado, P...|144800567|                                       |[A publicação ext...|http://pesquisa.i...|PAR-PB.007.08911/...|[Petróleo Brasile...|[[Fabricação de p...|[81.120.842/0001-...|Diário Oficial da...|[Publicação Extra...|        0,00|\n",
            "+----------------------------------+--------------+----------------+--------------------+--------------------+--------------+---------------------+----------------------+--------------------+---------+---------------------------------------+--------------------+--------------------+--------------------+--------------------+--------------------+--------------------+--------------------+--------------------+------------+\n",
            "\n"
          ],
          "name": "stdout"
        }
      ]
    },
    {
      "cell_type": "markdown",
      "metadata": {
        "id": "zWHJarEfyiNY"
      },
      "source": [
        "**8 Tratamento e transformação de Dados**\n",
        "\n"
      ]
    },
    {
      "cell_type": "code",
      "metadata": {
        "id": "1EqPhIDayrEQ",
        "outputId": "69acbe20-2ef7-472e-e4c5-bcb4c63d60e8",
        "colab": {
          "base_uri": "https://localhost:8080/",
          "height": 357
        }
      },
      "source": [
        "dfPrepared = df.selectExpr(\"dataInicioSancao\",\"pessoa\",\"tipoSancao\",\"valorMulta\")\n",
        "dfPrepared.show()"
      ],
      "execution_count": 12,
      "outputs": [
        {
          "output_type": "stream",
          "text": [
            "+----------------+--------------------+--------------------+------------+\n",
            "|dataInicioSancao|              pessoa|          tipoSancao|  valorMulta|\n",
            "+----------------+--------------------+--------------------+------------+\n",
            "|      07/05/2020|[[Comércio vareji...|[Multa - Lei 12.8...|   14.346,00|\n",
            "|      07/05/2020|[[Comércio vareji...|[Multa - Lei 12.8...|  264.852,00|\n",
            "|      05/10/2020|[[Carga e descarg...|[Publicação Extra...|        0,00|\n",
            "|      15/05/2020|[[Comércio vareji...|[Multa - Lei 12.8...|   70.295,79|\n",
            "|      20/10/2020|[[Sem informação,...|[Multa - Lei 12.8...|  221.920,45|\n",
            "|      11/03/2020|[[Fabricação de p...|[Multa - Lei 12.8...|   51.410,99|\n",
            "|      20/08/2020|[[Comércio vareji...|[Multa - Lei 12.8...|  168.219,45|\n",
            "|      20/08/2020|[[Comércio vareji...|[Publicação Extra...|        0,00|\n",
            "|      14/08/2019|[[Atividades técn...|[Publicação Extra...|        0,00|\n",
            "|      14/08/2019|[[Atividades técn...|[Multa - Lei 12.8...|   12.281,37|\n",
            "|      29/08/2019|[[Serviços de eng...|[Multa - Lei 12.8...|1.463.416,69|\n",
            "|      03/01/2018|[[Serviços de eng...|[Multa - Lei 12.8...|  858.824,94|\n",
            "|      22/04/2019|[[Sem informação,...|[Multa - Lei 12.8...|3.706.339,14|\n",
            "|      20/10/2020|[[Sem informação,...|[Publicação Extra...|        0,00|\n",
            "|      11/03/2020|[[Fabricação de p...|[Publicação Extra...|        0,00|\n",
            "+----------------+--------------------+--------------------+------------+\n",
            "\n"
          ],
          "name": "stdout"
        }
      ]
    },
    {
      "cell_type": "markdown",
      "metadata": {
        "id": "yk9h688nyrkw"
      },
      "source": [
        "**9 Analise das informações e resultados obtidos**\n",
        "\n",
        "Etapa onde são realizados as analises utilizando linguagem SQL para por exemplo descobrir quem gastou mais esse ano"
      ]
    },
    {
      "cell_type": "code",
      "metadata": {
        "id": "Eu98NUyTzw-R"
      },
      "source": [
        "#Declara tabela temporaria no SparkSQL\n",
        "dfPrepared.createOrReplaceTempView(\"dfPrepared\")"
      ],
      "execution_count": 13,
      "outputs": []
    },
    {
      "cell_type": "code",
      "metadata": {
        "id": "UU6YNEMi2n44",
        "outputId": "15e6901c-8e8a-4a1b-8ebb-c7d6ef6da90c",
        "colab": {
          "base_uri": "https://localhost:8080/",
          "height": 289
        }
      },
      "source": [
        "topTravels = spark.sql(\"select count(*),pessoa from dfPrepared group by 2 order by 1 desc\")\n",
        "topTravels.show()"
      ],
      "execution_count": 18,
      "outputs": [
        {
          "output_type": "stream",
          "text": [
            "+--------+--------------------+\n",
            "|count(1)|              pessoa|\n",
            "+--------+--------------------+\n",
            "|       2|[[Sem informação,...|\n",
            "|       2|[[Atividades técn...|\n",
            "|       2|[[Comércio vareji...|\n",
            "|       2|[[Comércio vareji...|\n",
            "|       1|[[Fabricação de p...|\n",
            "|       1|[[Fabricação de p...|\n",
            "|       1|[[Serviços de eng...|\n",
            "|       1|[[Comércio vareji...|\n",
            "|       1|[[Carga e descarg...|\n",
            "|       1|[[Serviços de eng...|\n",
            "|       1|[[Sem informação,...|\n",
            "+--------+--------------------+\n",
            "\n"
          ],
          "name": "stdout"
        }
      ]
    },
    {
      "cell_type": "markdown",
      "metadata": {
        "id": "N9NFocse2w3i"
      },
      "source": [
        ""
      ]
    }
  ]
}