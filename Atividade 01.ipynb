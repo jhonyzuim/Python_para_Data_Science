{
 "cells": [
  {
   "cell_type": "markdown",
   "metadata": {},
   "source": [
    "<center><h2>Basico de Python (Fluxos, Controles e Laços)\n",
    "</center>"
   ]
  },
  {
   "cell_type": "markdown",
   "metadata": {},
   "source": [
    "<b>1-</b>Condição"
   ]
  },
  {
   "cell_type": "markdown",
   "metadata": {},
   "source": [
    "<b>IF</b>: server para avaliarmos se uma determinada condição é verdadeira ou falsa"
   ]
  },
  {
   "cell_type": "code",
   "execution_count": 5,
   "metadata": {},
   "outputs": [
    {
     "name": "stdout",
     "output_type": "stream",
     "text": [
      "y é maior\n"
     ]
    }
   ],
   "source": [
    "#Exemplo1.1:\n",
    "\n",
    "x = 100\n",
    "y = 100\n",
    "b = 100\n",
    "\n",
    "if(x > y or x < b):\n",
    "    print(\"x é maior\")\n",
    "else:\n",
    "    print(\"y é maior\")"
   ]
  },
  {
   "cell_type": "code",
   "execution_count": 7,
   "metadata": {},
   "outputs": [
    {
     "name": "stdout",
     "output_type": "stream",
     "text": [
      "sei la que quero22222\n"
     ]
    }
   ],
   "source": [
    "if (x == y and x==b):\n",
    "    print('sei la que quero22222')\n",
    "else:\n",
    "    print('saiba o que quer')"
   ]
  },
  {
   "cell_type": "code",
   "execution_count": 9,
   "metadata": {},
   "outputs": [
    {
     "name": "stdout",
     "output_type": "stream",
     "text": [
      "Digite seu ano de nascimento:1985\n",
      "voce é da geração y\n"
     ]
    }
   ],
   "source": [
    "#Exemplo2.1:\n",
    "ano = int(input(\"Digite seu ano de nascimento:\"))\n",
    "\n",
    "if(ano < 1985):\n",
    "    print(\"voce é da geração x\")\n",
    "else:\n",
    "    print(\"voce é da geração y\")\n"
   ]
  },
  {
   "cell_type": "markdown",
   "metadata": {},
   "source": [
    "Agora vamos ver o que chamamos de if, em cadeado."
   ]
  },
  {
   "cell_type": "code",
   "execution_count": null,
   "metadata": {},
   "outputs": [],
   "source": [
    "#exemplo3.1:\n",
    "pergunta = int(input(\"chove hoje ? observação digite apenas 0 -> para não e 1 - > sim\"))\n",
    "if(pergunta == 1):\n",
    "    guarda_chuva = int(input(\"levo guarda chuva ? observação digite apenas 0 -> para não e 1 - > sim\"))\n",
    "    if(guarda_chuva == 0):\n",
    "        capa = int(input(\"ou capa ? observação digite apenas 0 -> para não e 1 - > sim\"))\n",
    "        if(capa == 1):\n",
    "            print(\"vou de capa\")\n",
    "        else:\n",
    "            print(\"sou malandro, vou me molhar\")\n",
    "    elif(guarda_chuva == 1):\n",
    "        grande_pequeno = int(input(\"grande ou pequeno ? observação digite apenas 0 -> para não e 1 - > sim\"))\n",
    "        if(grande_pequeno == 1):\n",
    "            print(\"grande\")\n",
    "        else:\n",
    "            print(\"pequeno\")\n",
    "    else:\n",
    "        print(\"leia a pergunta atentamente\")\n",
    "        \n",
    "else:\n",
    "    print(\"sem chuva\")\n",
    "    "
   ]
  },
  {
   "cell_type": "markdown",
   "metadata": {},
   "source": [
    "Observação: extremamente importante.\n",
    "Na ciencia da computação, existe uma disciplina que estudamos, chamada de complexidade sistematica.\n",
    "https://www.treinaweb.com.br/blog/complexidade-ciclomatica-analise-estatica-e-refatoracao/\n",
    "\n",
    "Basicamente, o que nos interessa dessa leitura, esta relacionado, a quantidade de if em cadeado que tem sua logica. Quanto mais if, mais complexo fica seu código e mais tempo demorara para executar.\n",
    "\n",
    "Como dica: pense no pareto (80-20), explicado na primeira aula. Passe mais tempo pensando no problema e na solução do que programando."
   ]
  },
  {
   "cell_type": "markdown",
   "metadata": {},
   "source": [
    "<b>Exercicio 1:</b> Crie uma calculadora simples"
   ]
  },
  {
   "cell_type": "code",
   "execution_count": null,
   "metadata": {},
   "outputs": [],
   "source": [
    "valor1 = 9\n",
    "valor2 = 0\n",
    "\n",
    "calc = 'soma'\n",
    "\n",
    "se calc == 'soma' entao\n",
    "    resultado = valor1 + valor 2\n",
    "senao\n",
    "    resultado = 0\n"
   ]
  },
  {
   "cell_type": "markdown",
   "metadata": {},
   "source": [
    "<b>2-</b> Estruturas de Repetições."
   ]
  },
  {
   "cell_type": "markdown",
   "metadata": {},
   "source": [
    "<b>2.1 - For:</b>\n",
    "itera sobre os itens de uma sequência (uma lista ou uma string), na ordem em que parecem na sequência."
   ]
  },
  {
   "cell_type": "code",
   "execution_count": 9,
   "metadata": {},
   "outputs": [
    {
     "name": "stdout",
     "output_type": "stream",
     "text": [
      "1\n",
      "2\n",
      "3\n",
      "4\n",
      "tchau\n"
     ]
    }
   ],
   "source": [
    "#Exemplo2.1.1\n",
    "valores = [1,2,3,4,5,6,7,8,9]\n",
    "for valor in valores:\n",
    "    if(valor == 5):\n",
    "        print('tchau')\n",
    "        break\n",
    "    else:\n",
    "        print(valor)"
   ]
  },
  {
   "cell_type": "code",
   "execution_count": 3,
   "metadata": {},
   "outputs": [
    {
     "name": "stdout",
     "output_type": "stream",
     "text": [
      "8\n",
      "7\n",
      "6\n"
     ]
    }
   ],
   "source": [
    "valor = 8\n",
    "while(valor != 5):\n",
    "    print(valor)\n",
    "    valor = valor - 1"
   ]
  },
  {
   "cell_type": "code",
   "execution_count": 8,
   "metadata": {},
   "outputs": [
    {
     "data": {
      "text/plain": [
       "9"
      ]
     },
     "execution_count": 8,
     "metadata": {},
     "output_type": "execute_result"
    }
   ],
   "source": [
    "len(valores)"
   ]
  },
  {
   "cell_type": "code",
   "execution_count": 17,
   "metadata": {},
   "outputs": [
    {
     "name": "stdout",
     "output_type": "stream",
     "text": [
      "banana\n",
      "uva\n",
      "pera\n",
      "maça\n",
      "melão\n"
     ]
    }
   ],
   "source": [
    "#Exemplo2.1.2\n",
    "valores = [\"banana\",\"uva\",\"pera\",\"maça\",\"melão\"]\n",
    "for valor in valores:\n",
    "    print(valor)"
   ]
  },
  {
   "cell_type": "code",
   "execution_count": 1,
   "metadata": {},
   "outputs": [
    {
     "name": "stdout",
     "output_type": "stream",
     "text": [
      "banana\n",
      "2\n",
      "pera\n",
      "44.4\n",
      "melão\n",
      "True\n"
     ]
    }
   ],
   "source": [
    "#Exemplo2.1.3\n",
    "valores = [\"banana\",2,\"pera\",44.4,\"melão\", True]\n",
    "for valor in valores:\n",
    "    print(valor)"
   ]
  },
  {
   "cell_type": "markdown",
   "metadata": {},
   "source": [
    "<b>2.2 - While:</b>\n",
    "itera sobre os itens de uma sequência (uma lista ou uma string), na ordem em que parecem na sequência."
   ]
  },
  {
   "cell_type": "code",
   "execution_count": 22,
   "metadata": {},
   "outputs": [
    {
     "name": "stdout",
     "output_type": "stream",
     "text": [
      "vai somando\n",
      "vai somando\n",
      "vai somando\n",
      "vai somando\n",
      "vai somando\n",
      "vai somando\n",
      "vai somando\n",
      "vai somando\n",
      "vai somando\n"
     ]
    }
   ],
   "source": [
    "contador = 1\n",
    "\n",
    "while(contador < 10):\n",
    "    print(\"vai somando\")\n",
    "    contador = contador + 1"
   ]
  },
  {
   "cell_type": "markdown",
   "metadata": {},
   "source": [
    "<b>Exercicio 2:</b> A partir do array: nota = [9,6,7,3,8,8,\"oito\", \"A\", \"C\"], tire a media desses valores. </br>\n",
    "Observação: Veja que tem string nesse array, a media só se tira "
   ]
  },
  {
   "cell_type": "code",
   "execution_count": null,
   "metadata": {},
   "outputs": [],
   "source": [
    "frutas = ['banana', 'banana', 'banana', 'tomate', 'banana', 'tomate']\n",
    "'banana' - > 2\n",
    "'Tomate' - 5\n"
   ]
  },
  {
   "cell_type": "code",
   "execution_count": 20,
   "metadata": {},
   "outputs": [],
   "source": [
    "numeros  = [3, 4, 5,3,4,5,'A']"
   ]
  },
  {
   "cell_type": "code",
   "execution_count": 21,
   "metadata": {},
   "outputs": [
    {
     "name": "stdout",
     "output_type": "stream",
     "text": [
      "media 3.4286\n"
     ]
    }
   ],
   "source": [
    "numeros  = [3, 4, 5,3,4,5,'A']\n",
    "total = len(numeros)\n",
    "numeros.remove('A')\n",
    "soma = 0\n",
    "for n in numeros:\n",
    "    soma = soma + n\n",
    "print('media', round(soma/total,4))"
   ]
  }
 ],
 "metadata": {
  "kernelspec": {
   "display_name": "Python 3",
   "language": "python",
   "name": "python3"
  },
  "language_info": {
   "codemirror_mode": {
    "name": "ipython",
    "version": 3
   },
   "file_extension": ".py",
   "mimetype": "text/x-python",
   "name": "python",
   "nbconvert_exporter": "python",
   "pygments_lexer": "ipython3",
   "version": "3.7.4"
  }
 },
 "nbformat": 4,
 "nbformat_minor": 2
}
